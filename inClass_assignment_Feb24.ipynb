{
 "cells": [
  {
   "cell_type": "markdown",
   "id": "737794ac",
   "metadata": {},
   "source": [
    "### Edgar Molinares and Jake Thorson"
   ]
  },
  {
   "cell_type": "code",
   "execution_count": 71,
   "id": "e576458c",
   "metadata": {},
   "outputs": [],
   "source": [
    "import numpy as np\n",
    "import matplotlib.pyplot as plt\n",
    "import pandas as pd"
   ]
  },
  {
   "cell_type": "markdown",
   "id": "5389cf24",
   "metadata": {},
   "source": [
    "questions:\n",
    "\n",
    "Which countries have the biggest libraries?\n",
    "Which countries are outliers?"
   ]
  },
  {
   "cell_type": "markdown",
   "id": "8f81a794",
   "metadata": {},
   "source": [
    "\n"
   ]
  },
  {
   "cell_type": "code",
   "execution_count": 72,
   "id": "e2cdca67",
   "metadata": {},
   "outputs": [
    {
     "data": {
      "text/html": [
       "<div>\n",
       "<style scoped>\n",
       "    .dataframe tbody tr th:only-of-type {\n",
       "        vertical-align: middle;\n",
       "    }\n",
       "\n",
       "    .dataframe tbody tr th {\n",
       "        vertical-align: top;\n",
       "    }\n",
       "\n",
       "    .dataframe thead th {\n",
       "        text-align: right;\n",
       "    }\n",
       "</style>\n",
       "<table border=\"1\" class=\"dataframe\">\n",
       "  <thead>\n",
       "    <tr style=\"text-align: right;\">\n",
       "      <th></th>\n",
       "      <th>Country</th>\n",
       "      <th>Total Library Size</th>\n",
       "      <th>No. of TV Shows</th>\n",
       "      <th>No. of Movies</th>\n",
       "      <th>Cost Per Month - Basic ($)</th>\n",
       "      <th>Cost Per Month - Standard ($)</th>\n",
       "      <th>Cost Per Month - Premium ($)</th>\n",
       "    </tr>\n",
       "  </thead>\n",
       "  <tbody>\n",
       "    <tr>\n",
       "      <th>0</th>\n",
       "      <td>Argentina</td>\n",
       "      <td>4760</td>\n",
       "      <td>3154</td>\n",
       "      <td>1606</td>\n",
       "      <td>3.74</td>\n",
       "      <td>6.30</td>\n",
       "      <td>9.26</td>\n",
       "    </tr>\n",
       "    <tr>\n",
       "      <th>1</th>\n",
       "      <td>Austria</td>\n",
       "      <td>5640</td>\n",
       "      <td>3779</td>\n",
       "      <td>1861</td>\n",
       "      <td>9.03</td>\n",
       "      <td>14.67</td>\n",
       "      <td>20.32</td>\n",
       "    </tr>\n",
       "    <tr>\n",
       "      <th>2</th>\n",
       "      <td>Bolivia</td>\n",
       "      <td>4991</td>\n",
       "      <td>3155</td>\n",
       "      <td>1836</td>\n",
       "      <td>7.99</td>\n",
       "      <td>10.99</td>\n",
       "      <td>13.99</td>\n",
       "    </tr>\n",
       "    <tr>\n",
       "      <th>3</th>\n",
       "      <td>Bulgaria</td>\n",
       "      <td>6797</td>\n",
       "      <td>4819</td>\n",
       "      <td>1978</td>\n",
       "      <td>9.03</td>\n",
       "      <td>11.29</td>\n",
       "      <td>13.54</td>\n",
       "    </tr>\n",
       "    <tr>\n",
       "      <th>4</th>\n",
       "      <td>Chile</td>\n",
       "      <td>4994</td>\n",
       "      <td>3156</td>\n",
       "      <td>1838</td>\n",
       "      <td>7.07</td>\n",
       "      <td>9.91</td>\n",
       "      <td>12.74</td>\n",
       "    </tr>\n",
       "  </tbody>\n",
       "</table>\n",
       "</div>"
      ],
      "text/plain": [
       "     Country  Total Library Size  No. of TV Shows  No. of Movies  \\\n",
       "0  Argentina                4760             3154           1606   \n",
       "1    Austria                5640             3779           1861   \n",
       "2    Bolivia                4991             3155           1836   \n",
       "3   Bulgaria                6797             4819           1978   \n",
       "4      Chile                4994             3156           1838   \n",
       "\n",
       "   Cost Per Month - Basic ($)  Cost Per Month - Standard ($)  \\\n",
       "0                        3.74                           6.30   \n",
       "1                        9.03                          14.67   \n",
       "2                        7.99                          10.99   \n",
       "3                        9.03                          11.29   \n",
       "4                        7.07                           9.91   \n",
       "\n",
       "   Cost Per Month - Premium ($)  \n",
       "0                          9.26  \n",
       "1                         20.32  \n",
       "2                         13.99  \n",
       "3                         13.54  \n",
       "4                         12.74  "
      ]
     },
     "execution_count": 72,
     "metadata": {},
     "output_type": "execute_result"
    }
   ],
   "source": [
    "data = pd.read_csv('data/netflix_price_in_different countries.csv')\n",
    "data.head()"
   ]
  },
  {
   "cell_type": "code",
   "execution_count": 73,
   "id": "83cad40b",
   "metadata": {},
   "outputs": [
    {
     "name": "stdout",
     "output_type": "stream",
     "text": [
      "          Country  Total Library Size  No. of TV Shows  No. of Movies  \\\n",
      "0       Argentina                4760             3154           1606   \n",
      "1         Austria                5640             3779           1861   \n",
      "2         Bolivia                4991             3155           1836   \n",
      "3        Bulgaria                6797             4819           1978   \n",
      "4           Chile                4994             3156           1838   \n",
      "..            ...                 ...              ...            ...   \n",
      "60        Ireland                6486             4515           1971   \n",
      "61    Switzerland                5506             3654           1852   \n",
      "62      Australia                6114             4050           2064   \n",
      "63        Denmark                4558             2978           1580   \n",
      "64  United States                5818             3826           1992   \n",
      "\n",
      "    Cost Per Month - Basic ($)  Cost Per Month - Standard ($)  \\\n",
      "0                         3.74                           6.30   \n",
      "1                         9.03                          14.67   \n",
      "2                         7.99                          10.99   \n",
      "3                         9.03                          11.29   \n",
      "4                         7.07                           9.91   \n",
      "..                         ...                            ...   \n",
      "60                        9.03                          14.67   \n",
      "61                       12.88                          20.46   \n",
      "62                        7.84                          12.12   \n",
      "63                       12.00                          15.04   \n",
      "64                        8.99                          13.99   \n",
      "\n",
      "    Cost Per Month - Premium ($)  \n",
      "0                           9.26  \n",
      "1                          20.32  \n",
      "2                          13.99  \n",
      "3                          13.54  \n",
      "4                          12.74  \n",
      "..                           ...  \n",
      "60                         20.32  \n",
      "61                         26.96  \n",
      "62                         16.39  \n",
      "63                         19.60  \n",
      "64                         17.99  \n",
      "\n",
      "[65 rows x 7 columns]\n"
     ]
    }
   ],
   "source": [
    "#print all data \n",
    "print(data)"
   ]
  },
  {
   "cell_type": "code",
   "execution_count": 56,
   "id": "4c56f81f",
   "metadata": {},
   "outputs": [
    {
     "data": {
      "text/plain": [
       "Country                           object\n",
       "Total Library Size                 int64\n",
       "No. of TV Shows                    int64\n",
       "No. of Movies                      int64\n",
       "Cost Per Month - Basic ($)       float64\n",
       "Cost Per Month - Standard ($)    float64\n",
       "Cost Per Month - Premium ($)     float64\n",
       "dtype: object"
      ]
     },
     "execution_count": 56,
     "metadata": {},
     "output_type": "execute_result"
    }
   ],
   "source": [
    "data.dtypes"
   ]
  },
  {
   "cell_type": "code",
   "execution_count": 59,
   "id": "743e02ec",
   "metadata": {},
   "outputs": [],
   "source": [
    "#dropping column to make it only standard premium and basic pricing\n",
    "data.drop('Cost Per Month - Standard ($)', axis=1, inplace=True)"
   ]
  },
  {
   "cell_type": "code",
   "execution_count": 60,
   "id": "54f3cb86",
   "metadata": {},
   "outputs": [
    {
     "data": {
      "text/plain": [
       "Country                          object\n",
       "Total Library Size                int64\n",
       "No. of TV Shows                   int64\n",
       "No. of Movies                     int64\n",
       "Cost Per Month - Basic ($)      float64\n",
       "Cost Per Month - Premium ($)    float64\n",
       "dtype: object"
      ]
     },
     "execution_count": 60,
     "metadata": {},
     "output_type": "execute_result"
    }
   ],
   "source": [
    "data.dtypes"
   ]
  },
  {
   "cell_type": "code",
   "execution_count": 62,
   "id": "52c32de6",
   "metadata": {},
   "outputs": [],
   "source": [
    "Q1 = np.percentile(data['Total Library Size'], 25,\n",
    "                   interpolation = 'midpoint')\n",
    "Q3 = np.percentile(data['Total Library Size'], 75,\n",
    "                   interpolation = 'midpoint')\n",
    "IQR = Q3 - Q1"
   ]
  },
  {
   "cell_type": "code",
   "execution_count": 63,
   "id": "06181e28",
   "metadata": {},
   "outputs": [],
   "source": [
    "#set max and lower values\n",
    "upper = np.where(data['Total Library Size'] >= (Q3+1.5*IQR))\n",
    "lower = np.where(data['Total Library Size'] <= (Q1-1.5*IQR))\n"
   ]
  },
  {
   "cell_type": "code",
   "execution_count": 64,
   "id": "f8a447e5",
   "metadata": {},
   "outputs": [],
   "source": [
    "#drop anything above upper and lower values\n",
    "data.drop(upper[0], inplace = True)\n",
    "data.drop(lower[0], inplace = True)"
   ]
  },
  {
   "cell_type": "code",
   "execution_count": 66,
   "id": "77d0a9f2",
   "metadata": {},
   "outputs": [
    {
     "name": "stdout",
     "output_type": "stream",
     "text": [
      "0     4760\n",
      "1     5640\n",
      "2     4991\n",
      "3     6797\n",
      "4     4994\n",
      "      ... \n",
      "60    6486\n",
      "61    5506\n",
      "62    6114\n",
      "63    4558\n",
      "64    5818\n",
      "Name: Total Library Size, Length: 62, dtype: int64\n"
     ]
    }
   ],
   "source": [
    "#quartiles, dropped 3 countries\n",
    "print(data['Total Library Size'])"
   ]
  },
  {
   "cell_type": "code",
   "execution_count": 69,
   "id": "70bce078",
   "metadata": {},
   "outputs": [],
   "source": [
    "#creating new columns/dataframe\n",
    "newDataframe = pd.DataFrame(data, columns = ['Country', 'Total Library Size'])"
   ]
  },
  {
   "cell_type": "code",
   "execution_count": 70,
   "id": "2c5c0327",
   "metadata": {},
   "outputs": [
    {
     "name": "stdout",
     "output_type": "stream",
     "text": [
      "          Country  Total Library Size\n",
      "0       Argentina                4760\n",
      "1         Austria                5640\n",
      "2         Bolivia                4991\n",
      "3        Bulgaria                6797\n",
      "4           Chile                4994\n",
      "..            ...                 ...\n",
      "60        Ireland                6486\n",
      "61    Switzerland                5506\n",
      "62      Australia                6114\n",
      "63        Denmark                4558\n",
      "64  United States                5818\n",
      "\n",
      "[62 rows x 2 columns]\n"
     ]
    }
   ],
   "source": [
    "print(newDataframe)"
   ]
  },
  {
   "cell_type": "code",
   "execution_count": null,
   "id": "a1729f8b",
   "metadata": {},
   "outputs": [],
   "source": []
  }
 ],
 "metadata": {
  "kernelspec": {
   "display_name": "Python 3 (ipykernel)",
   "language": "python",
   "name": "python3"
  },
  "language_info": {
   "codemirror_mode": {
    "name": "ipython",
    "version": 3
   },
   "file_extension": ".py",
   "mimetype": "text/x-python",
   "name": "python",
   "nbconvert_exporter": "python",
   "pygments_lexer": "ipython3",
   "version": "3.9.7"
  }
 },
 "nbformat": 4,
 "nbformat_minor": 5
}
